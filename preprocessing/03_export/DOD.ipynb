{
 "cells": [
  {
   "cell_type": "code",
   "execution_count": null,
   "id": "ce669ad2-f3df-46af-bf09-0ad7155913a4",
   "metadata": {},
   "outputs": [],
   "source": [
    "import matplotlib.pyplot as plt\n",
    "from utilities import *\n",
    "import numpy as np"
   ]
  },
  {
   "cell_type": "code",
   "execution_count": null,
   "id": "32e63d3c-2130-4824-bbc4-c16a243fa3ec",
   "metadata": {},
   "outputs": [],
   "source": [
    "### Get an overview of the histograms calculated.\n",
    "\n",
    "soc_id3 = run_sql('soc_requests')\n",
    "soc_id3['time'] = pd.to_datetime(soc_id3['time'])\n",
    "soc_id3.set_index(['vehicle_id', 'time'], inplace=True)\n",
    "soc_id3"
   ]
  },
  {
   "cell_type": "code",
   "execution_count": null,
   "id": "3d9d12ba-0f26-418d-86b5-3b4ac9a3485c",
   "metadata": {},
   "outputs": [],
   "source": [
    "soc_cupras = run_sql('cuprasoc')\n",
    "def charging(x): return np.mean(x) > 0 \n",
    "soc_cupras['time'] = pd.to_datetime(soc_cupras['time'], utc=True)\n",
    "soc_cupras.set_index(['vehicle_id', 'time'], inplace=True)\n",
    "# rescale linearly to BMS SOC\n",
    "soc_cupras = (soc_cupras * 0.92 + 6)\n",
    "soc_cupras"
   ]
  },
  {
   "cell_type": "code",
   "execution_count": null,
   "id": "cb9b56fb-1a8d-4330-a5ab-6c50f23ed6d9",
   "metadata": {},
   "outputs": [],
   "source": [
    "import seaborn as sns \n",
    "sns.lineplot(data=soc_id3.reset_index(), x='time', y='soc', hue='vehicle_id')\n",
    "import pandas as pd\n",
    "import matplotlib.pyplot as plt\n",
    "\n",
    "# --- assume your SQL result is already in a DataFrame called `df` ---\n",
    "# If not, replace the next line with the variable you’re using.\n",
    "df = df.copy()\n",
    "\n",
    "# 1⃣  Ensure proper ordering\n",
    "df = df.sort_index(level=['vehicle_id', 'time'])\n",
    "\n",
    "# 2⃣  Compute the forward time-difference inside each vehicle\n",
    "dt = (                          # timedelta (with +1 row shift)\n",
    "    df.index.get_level_values('time')\n",
    "       .to_series()\n",
    "       .groupby(df.index.get_level_values('vehicle_id'))\n",
    "       .shift(-1)                      # next timestamp\n",
    "    - df.index.get_level_values('time')\n",
    ")\n",
    "df['time_diff_sec'] = dt.dt.total_seconds()\n",
    "\n",
    "# 3⃣  Keep only rows that have a valid, positive gap\n",
    "df_w = df[df['time_diff_sec'].notna() & (df['time_diff_sec'] > 0)]\n",
    "\n",
    "# 4⃣  Histogram of SOC weighted by the gap length\n",
    "plt.figure(figsize=(7,4))\n",
    "plt.hist(\n",
    "    df_w['soc'],\n",
    "    bins=20,                      # tweak if you need finer/coarser bins\n",
    "    weights=df_w['time_diff_sec']\n",
    ")\n",
    "plt.xlabel('State of Charge (%)')\n",
    "plt.ylabel('Time-weighted count (seconds)')\n",
    "plt.title('SOC distribution weighted by time between readings')\n",
    "plt.tight_layout()\n",
    "plt.show()\n",
    "\n",
    "sns.lineplot(data=soc_cupras.reset_index(), x='time', y='soc', hue='vehicle_id')\n"
   ]
  },
  {
   "cell_type": "code",
   "execution_count": null,
   "id": "2d01a42e-4030-4a02-af6c-053d847b91d4",
   "metadata": {},
   "outputs": [],
   "source": [
    "soc = pd.concat([soc_id3, soc_cupras]).sort_index()\n",
    "\n",
    "soc['diff'] = soc.sort_index().groupby('vehicle_id')['soc'].diff()\n",
    "soc['prev_soc'] = soc.groupby('vehicle_id').soc.shift(1)"
   ]
  },
  {
   "cell_type": "code",
   "execution_count": null,
   "id": "64bb9c5f-005c-4112-90b7-b346aab7d3e5",
   "metadata": {},
   "outputs": [],
   "source": [
    "soc['cycle'] = (soc['diff'] > 0).astype(int).diff().abs().cumsum().fillna(0)\n",
    "soc = soc.join(soc.groupby('cycle')['diff'].sum().rename('cycle_delta'), on='cycle')\n",
    "soc\n",
    "#(abs(soc['cycle_delta']) > 1.5).astype(int).diff().apply(lambda x: max(0,x)).cumsum()"
   ]
  },
  {
   "cell_type": "code",
   "execution_count": null,
   "id": "3b7aed2e-a9a2-42c1-b931-95918aa7b0bf",
   "metadata": {},
   "outputs": [],
   "source": [
    "sign = -1\n",
    "oldcycle = 0\n",
    "metacycle = 0\n",
    "metacycles = []\n",
    "\n",
    "for i, row in soc.iterrows():\n",
    "    cycle = row['cycle']\n",
    "    if cycle != oldcycle:\n",
    "        if abs(row['cycle_delta']) > 2:\n",
    "            metacycle +=1 \n",
    "    oldcycle = cycle\n",
    "    metacycles = metacycles + [metacycle]\n",
    "\n",
    "soc['metacycle'] = metacycles\n",
    "\n",
    "soc.rename(columns={'cycle':'subcycle', 'metacycle':'cycle'}, inplace=True)"
   ]
  },
  {
   "cell_type": "code",
   "execution_count": null,
   "id": "0116180e-b43e-46ba-953b-0e87dcde2e51",
   "metadata": {},
   "outputs": [],
   "source": [
    "def charging(x): return np.mean(x) > 0 \n",
    "\n",
    "cycles = soc.reset_index(level=1).groupby(['vehicle_id','cycle']).agg(\n",
    "    {'time':['min','max'], 'soc':['min','max'], 'prev_soc':['min','max'], 'diff': [charging, 'sum']})\n",
    "cycles.columns = cycles.columns.map('_'.join)\n",
    "cycles['soc_min'] = cycles.apply(lambda x: min(x.soc_min, x.prev_soc_min), axis=1)\n",
    "cycles['soc_max'] = cycles.apply(lambda x: max(x.soc_max, x.prev_soc_max), axis=1)\n",
    "\n",
    "cycles['DOD'] = (cycles['soc_max'] - cycles['soc_min']) * ((-1)**cycles['diff_charging'].astype(int))\n",
    "cycles['dt'] = (cycles['time_max'] - cycles['time_min']) / np.timedelta64(1,'h')\n",
    "\n",
    "cycles = cycles.drop(\n",
    "    columns=['prev_soc_max', 'prev_soc_min', 'diff_sum', 'diff_charging'])\n",
    "\n",
    "cycles.to_csv('../export/DOD_cycles.csv')"
   ]
  },
  {
   "cell_type": "code",
   "execution_count": null,
   "id": "e336d48c-5533-4b64-911c-1a00634cb108",
   "metadata": {},
   "outputs": [],
   "source": [
    "cycles.DOD.plot.hist(bins=45)\n",
    "plt.savefig('../export/DOD_bins.png')"
   ]
  },
  {
   "cell_type": "code",
   "execution_count": null,
   "id": "e03aff4d-e530-4a5f-aa9d-103980e76c41",
   "metadata": {},
   "outputs": [],
   "source": [
    "fig, ax = plt.subplots(1,2)\n",
    "# discharging\n",
    "cycles.loc[cycles.DOD > 0].soc_min.plot.hist(ax=ax[0],title='SOC after Driving', bins=50)\n",
    "# charging\n",
    "cycles.loc[cycles.DOD < 0].soc_max.plot.hist(ax=ax[1],title='SOC after Charging', bins=50)\n",
    "\n",
    "ax[0].set_ylim(0,550)\n",
    "ax[1].set_ylim(0,550)"
   ]
  },
  {
   "cell_type": "code",
   "execution_count": null,
   "id": "495b64cf-7bf5-4649-a239-31199396a282",
   "metadata": {},
   "outputs": [],
   "source": [
    "import pandas as pd\n",
    "import matplotlib.pyplot as plt\n",
    "\n",
    "# --- assume your SQL result is already in a DataFrame called `df` ---\n",
    "# If not, replace the next line with the variable you’re using.\n",
    "df = soc.copy()\n",
    "\n",
    "# --- assume df already has a MultiIndex (vehicle_id, time) -------------\n",
    "idx       = df.index                      # current MultiIndex\n",
    "vehicle   = idx.get_level_values('vehicle_id')\n",
    "\n",
    "# 🪄 1-liner that handles mixed localisation\n",
    "time_utc  = pd.to_datetime(idx.get_level_values('time'), utc=True)\n",
    "\n",
    "# re-assemble the MultiIndex with the patched time level\n",
    "df.index  = pd.MultiIndex.from_arrays([vehicle, time_utc],\n",
    "                                      names=idx.names)\n",
    "\n",
    "\n",
    "# 1 Ensure proper ordering\n",
    "df = df.sort_index(level=['vehicle_id', 'time'])\n",
    "\n",
    "import pandas as pd\n",
    "import matplotlib.pyplot as plt\n",
    "\n",
    "# 0 ️⃣  df already uses a MultiIndex  (vehicle_id, time)\n",
    "# ----- compute forward gap in seconds -------------------------------\n",
    "ts        = pd.Series(df.index.get_level_values('time'),  # ← values\n",
    "                      index=df.index,                     # ← keep index!\n",
    "                      name='time')\n",
    "\n",
    "next_ts   = ts.groupby(df.index.get_level_values('vehicle_id')).shift(-1)\n",
    "df['time_diff_sec'] = (next_ts - ts).dt.total_seconds()\n",
    "\n",
    "# drop rows whose gap is too large (weeks)\n",
    "df_w = df[df['time_diff_sec'].lt(14*24*60*60) ]\n",
    "\n",
    "# ----- time-weighted SOC histogram ----------------------------------\n",
    "plt.figure(figsize=(7,4))\n",
    "plt.hist(df_w['soc'],\n",
    "         bins=50,\n",
    "         weights=df_w['time_diff_sec'])\n",
    "plt.xlabel('State of Charge (%)')\n",
    "plt.ylabel('Time-weighted count (seconds)')\n",
    "plt.title('SOC distribution weighted by time between readings')\n",
    "plt.tight_layout()\n",
    "plt.show()\n"
   ]
  },
  {
   "cell_type": "code",
   "execution_count": null,
   "id": "a176a4e2-2fc6-4543-a60a-3bb57debb5f7",
   "metadata": {},
   "outputs": [],
   "source": [
    "soc[['soc', 'diff']].to_csv('../export/soc_cycles.csv')"
   ]
  }
 ],
 "metadata": {
  "kernelspec": {
   "display_name": "condaBaseEnv",
   "language": "python",
   "name": "condabaseenv"
  },
  "language_info": {
   "codemirror_mode": {
    "name": "ipython",
    "version": 3
   },
   "file_extension": ".py",
   "mimetype": "text/x-python",
   "name": "python",
   "nbconvert_exporter": "python",
   "pygments_lexer": "ipython3",
   "version": "3.10.8"
  }
 },
 "nbformat": 4,
 "nbformat_minor": 5
}
