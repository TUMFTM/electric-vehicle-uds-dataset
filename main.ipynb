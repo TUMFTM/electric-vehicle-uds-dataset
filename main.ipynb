{
 "cells": [
  {
   "cell_type": "code",
   "execution_count": null,
   "id": "0cc95bd4",
   "metadata": {},
   "outputs": [],
   "source": [
    "import pandas as pd \n",
    "import matplotlib.pyplot as plt"
   ]
  },
  {
   "cell_type": "code",
   "execution_count": null,
   "id": "6018c2fa",
   "metadata": {},
   "outputs": [],
   "source": [
    "import json\n",
    "\n",
    "with open(\"data/json/track_ID2_1200.json\", \"r\") as f:\n",
    "    track_data = json.load(f)\n",
    "\n",
    "df = pd.json_normalize(track_data).explode([\"data.x_values\", \"data.y_values\"])\n",
    "    \n",
    "df"
   ]
  },
  {
   "cell_type": "code",
   "execution_count": null,
   "id": "d88ca138",
   "metadata": {},
   "outputs": [],
   "source": [
    "state = 'driving' if df['state'].values[0] else 'charging'\n",
    "vehicle_id = df['vehicle_id'].values[0]\n",
    "variable_name = df['value_description.variable_name'].values[0]\n",
    "\n",
    "plt.plot(df[\"data.x_values\"], df[\"data.y_values\"])    \n",
    "plt.xlabel(df['value_description.variable_name'].values[0])\n",
    "plt.ylabel('Frequency')\n",
    "plt.title(f\"Histogram of {variable_name} of car {vehicle_id} during {state}\")"
   ]
  },
  {
   "cell_type": "code",
   "execution_count": null,
   "id": "e0f93f91",
   "metadata": {},
   "outputs": [],
   "source": [
    "df = pd.read_parquet(f\"data/uds_data/ID1.parquet\")\n",
    "df.loc[df['value_id'] == 1200].sort_values('time').iloc[1000:3000].plot(x='time', y='value')"
   ]
  }
 ],
 "metadata": {
  "kernelspec": {
   "display_name": ".conda",
   "language": "python",
   "name": "python3"
  },
  "language_info": {
   "codemirror_mode": {
    "name": "ipython",
    "version": 3
   },
   "file_extension": ".py",
   "mimetype": "text/x-python",
   "name": "python",
   "nbconvert_exporter": "python",
   "pygments_lexer": "ipython3",
   "version": "3.12.11"
  }
 },
 "nbformat": 4,
 "nbformat_minor": 5
}
