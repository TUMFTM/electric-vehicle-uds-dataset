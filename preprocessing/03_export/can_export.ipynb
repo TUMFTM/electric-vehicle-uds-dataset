{
 "cells": [
  {
   "cell_type": "code",
   "execution_count": null,
   "id": "ce669ad2-f3df-46af-bf09-0ad7155913a4",
   "metadata": {},
   "outputs": [],
   "source": [
    "import matplotlib.pyplot as plt\n",
    "from utilities import *\n",
    "import json"
   ]
  },
  {
   "cell_type": "code",
   "execution_count": null,
   "id": "32e63d3c-2130-4824-bbc4-c16a243fa3ec",
   "metadata": {},
   "outputs": [],
   "source": [
    "### Get an overview of the histograms calculated.\n",
    "for vehicle_id in (1700000635,1700000296,1700000988,1700000989, 1700000990,1700000991,1700000992):\n",
    "    can = run_sql('can_export', params={'vehicle_id':vehicle_id})\n",
    "    can.to_parquet(f'../export/uds_data/{vehicle_id}.parquet')"
   ]
  }
 ],
 "metadata": {
  "kernelspec": {
   "display_name": "condaBaseEnv",
   "language": "python",
   "name": "condabaseenv"
  },
  "language_info": {
   "codemirror_mode": {
    "name": "ipython",
    "version": 3
   },
   "file_extension": ".py",
   "mimetype": "text/x-python",
   "name": "python",
   "nbconvert_exporter": "python",
   "pygments_lexer": "ipython3",
   "version": "3.10.8"
  }
 },
 "nbformat": 4,
 "nbformat_minor": 5
}
